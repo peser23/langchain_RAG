{
 "cells": [
  {
   "cell_type": "code",
   "execution_count": 1,
   "id": "6177cc3c",
   "metadata": {},
   "outputs": [],
   "source": [
    "from langchain_community.document_loaders import PyPDFLoader\n",
    "from langchain_text_splitters import RecursiveCharacterTextSplitter\n",
    "from langchain_openai.embeddings import OpenAIEmbeddings\n",
    "from langchain_openai import ChatOpenAI\n",
    "from langchain_community.vectorstores import FAISS\n",
    "from langchain.prompts import PromptTemplate\n",
    "from dotenv import load_dotenv\n",
    "from langchain_core.output_parsers import StrOutputParser\n",
    "from langchain_core.runnables import RunnablePassthrough, RunnableLambda, RunnableParallel"
   ]
  },
  {
   "cell_type": "code",
   "execution_count": 2,
   "id": "c1888b6d",
   "metadata": {},
   "outputs": [
    {
     "name": "stdout",
     "output_type": "stream",
     "text": [
      "Loaded 124 pages from files\\The-Godfather.pdf\n"
     ]
    }
   ],
   "source": [
    "file_path = \"files\\\\The-Godfather.pdf\"\n",
    "\n",
    "loader = PyPDFLoader(file_path)\n",
    "documents = loader.load()\n",
    "\n",
    "print(f\"Loaded {len(documents)} pages from {file_path}\")\n",
    "#print(f\"First page content: {documents[0].page_content}\")  "
   ]
  },
  {
   "cell_type": "code",
   "execution_count": 3,
   "id": "c1562723",
   "metadata": {},
   "outputs": [
    {
     "name": "stdout",
     "output_type": "stream",
     "text": [
      "Split into 183 chunks\n"
     ]
    }
   ],
   "source": [
    "text_splitter = RecursiveCharacterTextSplitter(chunk_size=1000, chunk_overlap=200)\n",
    "chunks = text_splitter.split_documents(documents)\n",
    "print(f\"Split into {len(chunks)} chunks\")"
   ]
  },
  {
   "cell_type": "code",
   "execution_count": 4,
   "id": "6b7420b3",
   "metadata": {},
   "outputs": [],
   "source": [
    "embeddings = OpenAIEmbeddings(model=\"text-embedding-3-small\")\n",
    "vector_store = FAISS.from_documents(chunks, embeddings)\n",
    "\n",
    "#vector_store.index_to_docstore_id"
   ]
  },
  {
   "cell_type": "code",
   "execution_count": 5,
   "id": "4bb68149",
   "metadata": {},
   "outputs": [],
   "source": [
    "#vector_store.get_by_ids([\"1f0c811c-eb8f-4db9-8de9-dab36d6041d0\"])"
   ]
  },
  {
   "cell_type": "code",
   "execution_count": 6,
   "id": "8897ceb3",
   "metadata": {},
   "outputs": [],
   "source": [
    "vector_store.save_local(\"vectors/godfather_faiss_index\")"
   ]
  },
  {
   "cell_type": "code",
   "execution_count": 7,
   "id": "a68ada0b",
   "metadata": {},
   "outputs": [],
   "source": [
    "retriever = vector_store.as_retriever(search_type=\"similarity\", search_kwargs={\"k\": 3})\n",
    "#retriever.invoke(\"kids of The Godfather\")"
   ]
  },
  {
   "cell_type": "code",
   "execution_count": 8,
   "id": "0d12202e",
   "metadata": {},
   "outputs": [],
   "source": [
    "def format_retriever_results(retrieved_docs):\n",
    "    context_text = \"\\n\\n\".join([doc.page_content for doc in retrieved_docs])\n",
    "    return context_text\n"
   ]
  },
  {
   "cell_type": "code",
   "execution_count": 9,
   "id": "8621b928",
   "metadata": {},
   "outputs": [],
   "source": [
    "parallel_chain = RunnableParallel(\n",
    "    {\n",
    "        \"question\": RunnablePassthrough(),\n",
    "        \"context\": retriever | RunnableLambda(format_retriever_results),\n",
    "    }\n",
    ")"
   ]
  },
  {
   "cell_type": "code",
   "execution_count": 27,
   "id": "15bdd964",
   "metadata": {},
   "outputs": [],
   "source": [
    "model = ChatOpenAI(model=\"gpt-4o-mini\", temperature=0.4)\n",
    "parser = StrOutputParser()\n",
    "prompt = PromptTemplate(\n",
    "    template=\"You are a helpful assistant. \" \\\n",
    "              \"Answer ONLY from the provided screenplay.\" \\\n",
    "              \"If the contect is insufficient, just say you don'f know.\" \\\n",
    "              \"\\n\\n {context}\" \\\n",
    "              \"\\n\\nQuestion: {question}\",\n",
    "    input_variables=[\"context\", \"question\"]\n",
    ")"
   ]
  },
  {
   "cell_type": "code",
   "execution_count": 30,
   "id": "168b39ef",
   "metadata": {},
   "outputs": [
    {
     "data": {
      "text/plain": [
       "\"Michael Corleone is portrayed as a central character who evolves from a reluctant outsider to a decisive leader within the Corleone crime family. Initially, he is distanced from the family's criminal activities, expressing a desire to forge his own path. However, as the story progresses, he becomes increasingly involved in the family's operations, ultimately taking on the role of head of the family. Michael is strategic and calculated, demonstrating a willingness to make tough decisions for the sake of the family's survival and power, including reshaping the family's leadership and dealing with threats. His character embodies the conflict between personal values and familial loyalty, as he navigates the complexities of power, responsibility, and the consequences of a life of crime.\""
      ]
     },
     "execution_count": 30,
     "metadata": {},
     "output_type": "execute_result"
    }
   ],
   "source": [
    "main_chain = parallel_chain | prompt | model | parser\n",
    "main_chain.invoke(\"summarize the role of Michael CORLEONE in The Godfather screenplay?\")"
   ]
  }
 ],
 "metadata": {
  "kernelspec": {
   "display_name": ".venv",
   "language": "python",
   "name": "python3"
  },
  "language_info": {
   "codemirror_mode": {
    "name": "ipython",
    "version": 3
   },
   "file_extension": ".py",
   "mimetype": "text/x-python",
   "name": "python",
   "nbconvert_exporter": "python",
   "pygments_lexer": "ipython3",
   "version": "3.13.5"
  }
 },
 "nbformat": 4,
 "nbformat_minor": 5
}
