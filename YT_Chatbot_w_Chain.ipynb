{
 "cells": [
  {
   "cell_type": "code",
   "execution_count": 11,
   "id": "e56eccb9",
   "metadata": {},
   "outputs": [],
   "source": [
    "from langchain_core.runnables import RunnablePassthrough, RunnableLambda, RunnableParallel\n",
    "from langchain.chat_models import ChatOpenAI\n",
    "from langchain.prompts import PromptTemplate\n",
    "from langchain_community.vectorstores import FAISS\n",
    "from langchain_openai import OpenAIEmbeddings\n",
    "from langchain_core.output_parsers import StrOutputParser"
   ]
  },
  {
   "cell_type": "code",
   "execution_count": 6,
   "id": "6c0b6e14",
   "metadata": {},
   "outputs": [],
   "source": [
    "#load faiss vector store from local file\n",
    "embeddings = OpenAIEmbeddings(model=\"text-embedding-3-small\")\n",
    "vector_store = FAISS.load_local(\"faiss_YT_index\", embeddings, allow_dangerous_deserialization=True)\n",
    "\n"
   ]
  },
  {
   "cell_type": "code",
   "execution_count": 7,
   "id": "93eee579",
   "metadata": {},
   "outputs": [
    {
     "data": {
      "text/plain": [
       "[Document(id='5a9d2117-0453-4a48-9bdc-06773b988cca', metadata={}, page_content='demas establish to support this podcast please check out our sponsors in the description and now let me leave you with some words from edskar dykstra computer science is no more about computers than astronomy is about telescopes thank you for listening and hope to see you next time')]"
      ]
     },
     "execution_count": 7,
     "metadata": {},
     "output_type": "execute_result"
    }
   ],
   "source": [
    "vector_store.get_by_ids([\"5a9d2117-0453-4a48-9bdc-06773b988cca\"])"
   ]
  },
  {
   "cell_type": "code",
   "execution_count": 8,
   "id": "ea0fddf5",
   "metadata": {},
   "outputs": [],
   "source": [
    "def format_docs(retrieved_docs):\n",
    "    contect_text = \"\\n\\n\".join([doc.page_content for doc in retrieved_docs])\n",
    "    return contect_text"
   ]
  },
  {
   "cell_type": "code",
   "execution_count": 9,
   "id": "c9ae2418",
   "metadata": {},
   "outputs": [
    {
     "data": {
      "text/plain": [
       "{'question': 'who is the author of the video?',\n",
       " 'context': \"the following is a conversation with demus hasabis ceo and co-founder of deepmind a company that has published and builds some of the most incredible artificial intelligence systems in the history of computing including alfred zero that learned all by itself to play the game of gold better than any human in the world and alpha fold two that solved protein folding both tasks considered nearly impossible for a very long time demus is widely considered to be one of the most brilliant and impactful humans in the history of artificial intelligence and science and engineering in general this was truly an honor and a pleasure for me to finally sit down with him for this conversation and i'm sure we will talk many times again in the future this is the lex friedman podcast to support it please check out our sponsors in the description and now dear friends here's demis hassabis let's start with a bit of a personal question am i an ai program you wrote to interview people until i get good enough\\n\\nso you have to learn the rules and that's exactly the type of systems that we're building so you you mentioned you've open sourced alpha fold and even the data involved to me personally also really happy and a big thank you for open sourcing mijoko uh the physics simulation engine that's that's often used for robotics research and so on so i think that's a pretty gangster move uh so what what's the what's i mean this uh very few companies or people would do that kind of thing what's the philosophy behind that you know it's a case-by-case basis and in both those cases we felt that was the maximum benefit to humanity to do that and and the scientific community in one case the robotics uh physics community with mojoco so purchased it we purchased to obs we purchased it for the express principle to open source it so um so you know i hope people appreciate that it's great to hear that you do and then the second thing was and mostly we did it because the person building it is uh uh would\\n\\ndeeper maybe simpler explanation yes of things right than the standard model of physics which we know doesn't work but we still keep adding to so um and and that's how i think the beginning of an explanation would look and it would start encompassing many of the mysteries that we have wondered about for thousands of years like you know consciousness uh life and gravity all of these things yeah giving us a glimpses of explanations for those things yeah well um damas dear one of the special human beings in this giant puzzle of ours and it's a huge honor that you would take a pause from the bigger puzzle to solve this small puzzle of a conversation with me today it's truly an honor and a pleasure thank you thank you i really enjoyed it thanks lex thanks for listening to this conversation with demas establish to support this podcast please check out our sponsors in the description and now let me leave you with some words from edskar dykstra computer science is no more about computers than\\n\\ndemas establish to support this podcast please check out our sponsors in the description and now let me leave you with some words from edskar dykstra computer science is no more about computers than astronomy is about telescopes thank you for listening and hope to see you next time\"}"
      ]
     },
     "execution_count": 9,
     "metadata": {},
     "output_type": "execute_result"
    }
   ],
   "source": [
    "retriever = vector_store.as_retriever(search_type=\"similarity\", search_kwargs={\"k\": 4})\n",
    "parallel_chain = RunnableParallel(\n",
    "    {\n",
    "        \"question\": RunnablePassthrough(),\n",
    "        \"context\": retriever | RunnableLambda(format_docs)\n",
    "    }\n",
    ")\n",
    "parallel_chain.invoke(\"who is the author of the video?\")"
   ]
  },
  {
   "cell_type": "code",
   "execution_count": 15,
   "id": "05e777fc",
   "metadata": {},
   "outputs": [
    {
     "name": "stdout",
     "output_type": "stream",
     "text": [
      "Yes, the topic of nuclear fusion was mentioned in the video. The discussion focused on the collaboration with EPFL in Switzerland, where a test reactor was used to explore bottleneck problems in fusion. The speaker described how they applied AI methods to address these challenges, particularly in controlling and holding plasma in specific shapes for extended periods, which is crucial for energy production. They mentioned a published paper on this work and expressed interest in collaborating with fusion startups to tackle further problems in the field. The speaker also highlighted the broader implications of using AI in energy and climate challenges, indicating that fusion is one area where AI could be transformative.\n"
     ]
    }
   ],
   "source": [
    "model = ChatOpenAI(model=\"gpt-4o-mini\", temperature=0.4)\n",
    "parser = StrOutputParser()\n",
    "prompt = PromptTemplate(\n",
    "    template=\"You are a helpful assistant. \" \\\n",
    "              \"Answer ONLY from the provided transcript context.\" \\\n",
    "              \"If the contect is insufficient, just say you don'f know.\" \\\n",
    "              \"\\n\\n {context}\" \\\n",
    "              \"\\n\\nQuestion: {question}\",\n",
    "    input_variables=[\"context\", \"question\"]\n",
    ")\n",
    "\n",
    "main_chain = parallel_chain | prompt | model | parser\n",
    "\n",
    "result = main_chain.invoke(\"was the topic of nuclear fusion mentioned in the video? If yes, can you provide a summary of the topic discussion?\")\n",
    "\n",
    "print(result)"
   ]
  }
 ],
 "metadata": {
  "kernelspec": {
   "display_name": ".venv",
   "language": "python",
   "name": "python3"
  },
  "language_info": {
   "codemirror_mode": {
    "name": "ipython",
    "version": 3
   },
   "file_extension": ".py",
   "mimetype": "text/x-python",
   "name": "python",
   "nbconvert_exporter": "python",
   "pygments_lexer": "ipython3",
   "version": "3.13.5"
  }
 },
 "nbformat": 4,
 "nbformat_minor": 5
}
